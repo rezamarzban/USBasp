{
  "nbformat": 4,
  "nbformat_minor": 0,
  "metadata": {
    "colab": {
      "provenance": [],
      "authorship_tag": "ABX9TyPZOYCkvbR800gmJqEzBkpT",
      "include_colab_link": true
    },
    "kernelspec": {
      "name": "python3",
      "display_name": "Python 3"
    },
    "language_info": {
      "name": "python"
    }
  },
  "cells": [
    {
      "cell_type": "markdown",
      "metadata": {
        "id": "view-in-github",
        "colab_type": "text"
      },
      "source": [
        "<a href=\"https://colab.research.google.com/github/rezamarzban/USBasp/blob/main/getpass.ipynb\" target=\"_parent\"><img src=\"https://colab.research.google.com/assets/colab-badge.svg\" alt=\"Open In Colab\"/></a>"
      ]
    },
    {
      "cell_type": "code",
      "execution_count": null,
      "metadata": {
        "id": "ZCZrixcTarhp"
      },
      "outputs": [],
      "source": [
        "import hashlib\n",
        "import itertools\n",
        "from tqdm import tqdm\n",
        "\n",
        "def calculate_checksum(string):\n",
        "    return hashlib.sha256(string.encode()).hexdigest()\n",
        "\n",
        "def generate_strings_with_checksum(target_checksum, characters, string_length):\n",
        "    for candidate in itertools.product(characters, repeat=string_length):\n",
        "        candidate_str = ''.join(candidate)\n",
        "        checksum = calculate_checksum(candidate_str)\n",
        "        if checksum == target_checksum:\n",
        "            return candidate_str\n",
        "    return None\n",
        "\n",
        "# Checksums directly included in the code\n",
        "checksums = [\n",
        "    \"b344d80e24a3679999fa964450b34bc24d1578a35509f934c1418b0a20d21a67\",\n",
        "    \"f3fa4147aa4408fc7b3ccab60fedaabb30911c763bfbedebcdb6152d3878a83a\",\n",
        "    \"80fef94b3945d30bd0adf30fa9915276881765b719c14f7ffa29f1128f11c1f9\",\n",
        "    \"55df18d062878fb6d3f4a6d1928fd19c1b49d5f8b90fbfcc76d5e1b1b2b75ef8\",\n",
        "    \"88eb5a7ed2730b8af9fcab410bb1ca9d258e493830226b57b6a5fd9f3b062563\",\n",
        "    \"166b12025b93e9af86350848f98f3ca0d845e67331a36d8b413b09c27f31b64e\",\n",
        "    \"44ddcb8b4cfa364d8ea2ed8a7351950d9b11ce21bf4ae78d5de6818320ddc1a8\",\n",
        "    \"898cef1b49045fd8d4bcac0c8fe0034c5ed28f00ed4f617bb8fdc9ea457d2ea0\",\n",
        "    \"7e2c890a109833f288b1a6c3a2a4ec274744d6617b67d47e7bc867366459c728\",\n",
        "    \"6b929581f9ef7e950541fc46c3c098c74f4ec0f99afbd3192706569e1c60e9de\",\n",
        "    \"0517d5d4214d2609abc3c7929c93d9dc3685d56b9358dae767c1108d9c763037\",\n",
        "    \"51609286fb7f6089e0a0a418355949c791e84870ae2523093ba00bb3ecff7f8e\",\n",
        "    \"b688a82b74ae2a7290ebab1f890ac3d8c26786bea8f5613f8e5afd4124c13b1a\",\n",
        "    \"b67451c6713d7372ed80b20a5b13de24af50d2dfd690a7224032dca47ed3c05f\"\n",
        "]\n",
        "\n",
        "results = []\n",
        "\n",
        "for target_checksum in tqdm(checksums, desc=\"Processing\"):\n",
        "    characters = 'abcdefghijklmnopqrstuvwxyzABCDEFGHIJKLMNOPQRSTUVWXYZ0123456789!@#$%^&*()-_+=[]{}|;:,.<>?/~`\" '\n",
        "    string_length = 3\n",
        "    string = generate_strings_with_checksum(target_checksum, characters, string_length)\n",
        "    if string is not None:\n",
        "        results.append(string)\n",
        "\n",
        "final_result = \"\".join(results)\n",
        "\n",
        "from IPython.display import HTML\n",
        "\n",
        "html_text = f'''<textarea id=\"clipborad-text\" rows=\"5\" cols=\"50\">{final_result}</textarea> '''\n",
        "display(HTML(html_text))"
      ]
    }
  ]
}